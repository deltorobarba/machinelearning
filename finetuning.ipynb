{
  "nbformat": 4,
  "nbformat_minor": 0,
  "metadata": {
    "colab": {
      "provenance": [],
      "authorship_tag": "ABX9TyNfksyDiF7rr8Ewh0iM3ce4",
      "include_colab_link": true
    },
    "kernelspec": {
      "name": "python3",
      "display_name": "Python 3"
    },
    "language_info": {
      "name": "python"
    }
  },
  "cells": [
    {
      "cell_type": "markdown",
      "metadata": {
        "id": "view-in-github",
        "colab_type": "text"
      },
      "source": [
        "<a href=\"https://colab.research.google.com/github/deltorobarba/machinelearning/blob/main/finetuning.ipynb\" target=\"_parent\"><img src=\"https://colab.research.google.com/assets/colab-badge.svg\" alt=\"Open In Colab\"/></a>"
      ]
    },
    {
      "cell_type": "code",
      "execution_count": null,
      "metadata": {
        "id": "5jKsJ_zXGtgR"
      },
      "outputs": [],
      "source": []
    },
    {
      "cell_type": "markdown",
      "source": [
        "**Finetuning LLM**\n",
        "\n",
        "Official documentation on tuning large language models: https://cloud.google.com/vertex-ai/generative-ai/docs/models/tune-models\n",
        "\n",
        "Codelab tutorial on fine-tuning LLMs with Vertex AI: https://codelabs.developers.google.com/llm-finetuning-supervised\n",
        "\n",
        "Medium article providing insights into fine-tuning with Vertex AI: https://medium.com/google-cloud/fine-tuning-large-language-models-how-vertex-ai-takes-llms-to-the-next-level-3c113f4007da"
      ],
      "metadata": {
        "id": "6ZtkoS4WGu-l"
      }
    }
  ]
}
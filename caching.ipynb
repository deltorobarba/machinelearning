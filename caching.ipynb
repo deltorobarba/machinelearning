{
  "cells": [
    {
      "cell_type": "markdown",
      "metadata": {
        "id": "view-in-github",
        "colab_type": "text"
      },
      "source": [
        "<a href=\"https://colab.research.google.com/github/deltorobarba/machinelearning/blob/main/caching.ipynb\" target=\"_parent\"><img src=\"https://colab.research.google.com/assets/colab-badge.svg\" alt=\"Open In Colab\"/></a>"
      ]
    },
    {
      "cell_type": "markdown",
      "source": [
        "## **Gemini for Transcription and Translation + Context Caching**"
      ],
      "metadata": {
        "id": "OzAtLMN3qySo"
      },
      "id": "OzAtLMN3qySo"
    },
    {
      "cell_type": "markdown",
      "source": [
        "**Single Step Analysis**"
      ],
      "metadata": {
        "id": "JQOlxEHTA3t1"
      },
      "id": "JQOlxEHTA3t1"
    },
    {
      "cell_type": "code",
      "metadata": {
        "tags": [],
        "id": "TxjILnJzqySp"
      },
      "source": [
        "import vertexai"
      ],
      "execution_count": null,
      "outputs": [],
      "id": "TxjILnJzqySp"
    },
    {
      "cell_type": "code",
      "source": [
        "import vertexai\n",
        "from vertexai.generative_models import GenerativeModel, Part\n",
        "\n",
        "PROJECT_ID = \"lunar-352813\"\n",
        "\n",
        "vertexai.init(project=PROJECT_ID, location=\"us-central1\")\n",
        "\n",
        "model = GenerativeModel(\"gemini-1.5-flash-001\")\n",
        "\n",
        "prompt = \"\"\"\n",
        "Transkribiere das Gespräch! Übersetze die ukrainischen Antworten auf Deutsch!\n",
        "Sortiere die Fragen und Antworten nach Sprecher jeweils immer in einem neuen Absatz zur besseren Lesbarkeit.\n",
        "Füge den Namen des Sprechers immer hinzu\n",
        "\"\"\"\n",
        "\n",
        "video_file = Part.from_uri(\n",
        "    uri=\"gs://bamf-2024/bamf_ukraine.mp4\",\n",
        "    mime_type=\"video/mp4\",\n",
        ")\n",
        "\n",
        "contents = [video_file, prompt]\n",
        "\n",
        "response = model.generate_content(contents)\n",
        "print(response.text)"
      ],
      "metadata": {
        "colab": {
          "base_uri": "https://localhost:8080/"
        },
        "id": "aJx4T3DRAdLP",
        "outputId": "a59a638b-fa22-4818-a558-ed910390384b"
      },
      "id": "aJx4T3DRAdLP",
      "execution_count": null,
      "outputs": [
        {
          "output_type": "stream",
          "name": "stdout",
          "text": [
            "Guten Tag, mein Name ist Alexander Schmidt und ich bin vom BAMF und stelle Ihnen einige Fragen zur Aufenthaltserlaubnis. \n",
            "Die erste Frage lautet: Wie heißen Sie?\n",
            "\n",
            "Meine zweite Anastasia Gnatanko.\n",
            "\n",
            "Wann und wo sind sie geboren?\n",
            "\n",
            "Ja, narodilasja 27 lystopada 1991 roku v Ukraini u Kiyevi.\n",
            "(Ja, ich wurde am 27. November 1991 in der Ukraine in Kiew geboren)\n",
            "\n",
            "Okay, vielen Dank dafür. Aus welcher Region in der Ukraine stammen Sie?\n",
            "\n",
            "Ja, z Cherniva.\n",
            "(Ja, aus Tschernjiziv)\n",
            "\n",
            "Mhm, danke schön. Sind Sie jüdischer Abstammung?\n",
            "\n",
            "Ni.\n",
            "(Nein)\n",
            "\n",
            "Okay, danke zu ihrer Identität. Können Sie mir Ihren Reisepass oder ein anderes Identitätsdokument vorzeigen?\n",
            "\n",
            "Tak, v mene je vsі dokumenti, v mene je mіj zakonniy biometrychniy pasport, v mene takozh je mіy ukrains'kyy pasport, e-e moyе vodіys'ke posvіdchennja, vse, sho vam potrebno.\n",
            "(Ja, ich habe alle Dokumente, ich habe meinen legalen biometrischen Reisepass, ich habe auch meinen ukrainischen Reisepass, e-e mein Führerschein, alles, was Sie brauchen)\n",
            "\n",
            "Danke schön. Sie sind also ukrainischer Staatsbürger, richtig?\n",
            "\n",
            "Tak, tak, v mene ukraіns'ke hromadyanstvo.\n",
            "(Ja, ja, ich habe die ukrainische Staatsbürgerschaft.)\n",
            "\n",
            "Okay. Haben Sie noch andere Staatsangehörigkeiten?\n",
            "\n",
            "E-e, ni, v mene lishe ukrains'ke hromadyanstvo.\n",
            "(E-e nein, ich habe nur die ukrainische Staatsbürgerschaft)\n",
            "\n",
            "Okay. Dann stelle ich Ihnen jetzt Fragen zur Einreise und dem Aufenthalt in Deutschland. Wann sind Sie nach Deutschland eingereist?\n",
            "\n",
            "Ja, pryikhala do Nіmechchyny tіzhden' tomu. \n",
            "(Ja, ich bin letzte Woche nach Deutschland gekommen)\n",
            "\n",
            "Okay. Auf welchem Weg sind Sie eingereist?\n",
            "\n",
            "Ja, pryіkhalа poіzdom z Kiyeva do Varshavy i potіm z Varshavy poіzdom do Berlinu. \n",
            "(Ich bin mit dem Zug von Kiew nach Warschau gefahren, und dann mit dem Zug von Warschau nach Berlin.)\n",
            "\n",
            "Haben Sie bereits eine Unterkunft hier?\n",
            "\n",
            "E-e, ni.\n",
            "(E-e, nein)\n",
            "\n",
            "Okay. Danke für die Gründe zum Aufenthalt. Ich kann verstehen, wenn das schwierig ist. Wir brauchen aber dennoch eine Antwort. Warum sind Sie aus der Ukraine geflohen?\n",
            "\n",
            "Tomu sho pochalas vіyna. V Kiyevi bulo duzhe nebezpechno, e-e, krytychna sytuatsіya z bezpekoyu, z infrastruktouyu. Shchoden' ye raketni obstrіly, tomu ya virіshyly pokinuty Kiyv і pryіkhaty do Nіmechchyny.\n",
            "(Weil der Krieg begonnen hat. In Kiew war es sehr gefährlich, e-e, kritische Situation mit der Sicherheit, mit der Infrastruktur. Es gibt jeden Tag Raketenangriffe, deswegen habe ich mich entschlossen, Kiew zu verlassen und nach Deutschland zu kommen.)\n",
            "\n",
            "Okay.  Ähm, haben Sie Familienangehörige in Deutschland?\n",
            "\n",
            "E-e, ni, moya sim'ya v Ukraini.\n",
            "(E-e nein, meine Familie ist in der Ukraine)\n",
            "\n",
            "Okay. Und beabsichtigen Sie in Deutschland zu arbeiten oder zu studieren?\n",
            "\n",
            "E-e, v mene je robota v Ukraini, zaraz ja mayu zmogu pratsiuvaty vidaleno. Tomu, narazi, ne potrebniu robotu same v Nіmechchynі, tomu scho ya mozhu prodovzhuvaty pratsiuvaty online, ale v maybutniyomu, zalezhno vid situatsії, ya mozhu rozhlyadaty mozhlivіst znahodzhennja roboty u Nіmechchynі.\n",
            "(E-e, ich habe eine Arbeit in der Ukraine, zurzeit kann ich online arbeiten. Deshalb brauche ich zurzeit keine Arbeit in Deutschland, weil ich online weiterarbeiten kann, aber in Zukunft, abhängig von der Situation, kann ich die Möglichkeit in Betracht ziehen, in Deutschland Arbeit zu finden.)\n",
            "\n",
            "Okay. Sehr gut. Vielen Dank. Sind Sie verheiratet oder haben Sie Kinder?\n",
            "\n",
            "E-e, ni. Ya ne odruzhena i v mene nemayе dіtey.\n",
            "(E-e nein, ich bin nicht verheiratet und ich habe keine Kinder.)\n",
            "\n",
            "Okay.  Haben Sie besondere Bedürfnisse oder Einschränkungen?\n",
            "\n",
            "Ni. Nіchoho.\n",
            "(Nein. Nichts)\n",
            "\n",
            "Okay. Jetzt müssen wir noch Ihnen eine, ein paar Sicherheitsrelevante Fragen stellen. Waren Sie jemals in Deutschland oder in einem anderen Land strafrechtlich verurteilt?\n",
            "\n",
            "Ni, nikoli. Zavzhdi vse bulo dobre.\n",
            "(Nein, nie. Es war immer gut.)\n",
            "\n",
            "Mhm. Sind Sie ein Mitglied einer politischen Partei oder Organisation?\n",
            "\n",
            "Takozh ni.\n",
            "(Auch nein)\n",
            "\n",
            "Mhm. Haben Sie jemals an kriegerischen Handlungen teilgenommen?\n",
            "\n",
            "Ni.\n",
            "(Nein)\n",
            "\n",
            "Okay. Dann habe ich jetzt noch drei zusätzliche Fragen am Ende. Haben Sie bereits einen Antrag auf Asyl oder Schutz gestellt?\n",
            "\n",
            "E-e, shе ni. Vlasne, e-e, zaraz ja rozmоvlyayu z vamy і hochu zrozumіty protsеduru і yakі mozhlivostі і protsеsi ye dlya tsyoho v Nіmechchynі.\n",
            "(E-e, noch nicht. Eigentlich, e-e, ich spreche jetzt mit Ihnen und möchte den Prozess verstehen und welche Möglichkeiten und Prozesse es dafür in Deutschland gibt.)\n",
            "\n",
            "Mhm, danke schön. Benötigen Sie Unterstützung bei der Wohnungssuche oder ja Arbeitsvermittlung?\n",
            "\n",
            "E-e, tak.  E-e, bulo bі duzhe dobre otrymaty konsultaciyu ta rekomеndatsіyu vzaghalі relevatnui informatsіyu pro zhitlo. Tomu sho narazі ja ne mayu dogovorного zhitla.\n",
            "(E-e ja.  E-e, es wäre sehr gut, eine Beratung und Empfehlung zu bekommen, im Allgemeinen relevante Informationen über Unterkunft. Da ich zurzeit keine gemietete Unterkunft habe.)\n",
            "\n",
            "Stosovno roboty, jak ya skazala ranіshe, zaraz ja ne potrebniu roboty, ale v maybutniyomu ce mozhe buty, ja mozhu rozhlyadaty mozhlivost pratsevlastuvannja v Nіmechchynі.\n",
            "(Bezüglich Arbeit, wie ich bereits erwähnt habe, brauche ich zurzeit keine Arbeit, aber in Zukunft könnte das sein, ich kann die Möglichkeit in Betracht ziehen, in Deutschland Arbeit zu finden.)\n",
            "\n",
            "Okay. Super. Vielen Dank. Das war sehr hilfreich. Haben Sie noch Fragen zum Asylverfahren oder zur Aufenthaltserlaubnis?\n",
            "\n",
            "E-e, tak. Bulo bі duzhe klaasno, jakbi vі rozkazali menі, yak pratsuje tse process. Dali informatsіyu ta yakіs, e-e, poyasnili menі kрокi, yakі ja mayu proity dlya togo, shchob otrymaty dokumenti ta zakonno znakhoditysja na terіtorії Nіmechchyny.\n",
            "(E-e ja. Es wäre sehr gut, wenn Sie mir erzählen würden, wie dieser Prozess funktioniert. Weiter Informationen und  e-e, wenn Sie mir die Schritte erklären würden, die ich machen muss, um die Dokumente zu erhalten und mich legal im Gebiet Deutschlands aufzuhalten.)\n",
            "\n",
            "Okay. Super. Vielen Dank. Dann werde ich jetzt die Aufnahme beenden. Ähm, Moment, muss ich hier runter. \n",
            "Stop recording. \n",
            "\n"
          ]
        }
      ]
    },
    {
      "cell_type": "markdown",
      "source": [
        "**Appying Context Caching to ask multiple questions for large assets**"
      ],
      "metadata": {
        "id": "1tizclnJA7re"
      },
      "id": "1tizclnJA7re"
    },
    {
      "cell_type": "markdown",
      "source": [
        "https://cloud.google.com/vertex-ai/generative-ai/docs/context-cache/context-cache-create\n",
        "\n",
        "\n",
        "https://medium.com/google-cloud/vertex-ai-context-caching-with-gemini-189117418b67\n",
        "\n",
        "https://cloud.google.com/vertex-ai/generative-ai/docs/context-cache/context-cache-create"
      ],
      "metadata": {
        "id": "VMKrA_7QqySp"
      },
      "id": "VMKrA_7QqySp"
    },
    {
      "cell_type": "code",
      "source": [
        "project_id = \"lunar-352813\"\n",
        "\n",
        "vertexai.init(project=project_id, location=\"us-central1\")\n",
        "\n",
        "system_instruction = \"\"\"\n",
        "\"\"\""
      ],
      "metadata": {
        "id": "GUCizXi-qySp"
      },
      "execution_count": null,
      "outputs": [],
      "id": "GUCizXi-qySp"
    },
    {
      "cell_type": "code",
      "source": [
        "from vertexai.generative_models import Part\n",
        "\n",
        "contents = [\n",
        "    Part.from_uri(\n",
        "        \"gs://bamf-2024/bamf_mexico.mp4\",\n",
        "        mime_type=\"video/mp4\",\n",
        "    ),\n",
        "    Part.from_uri(\n",
        "        \"gs://bamf-2024/bamf_ukraine.mp4\",\n",
        "        mime_type=\"video/mp4\",\n",
        "    ),\n",
        "]"
      ],
      "metadata": {
        "id": "Um3zfmr-qySp"
      },
      "execution_count": null,
      "outputs": [],
      "id": "Um3zfmr-qySp"
    },
    {
      "cell_type": "code",
      "source": [
        "import datetime\n",
        "from vertexai.preview import caching\n",
        "\n",
        "cached_content = caching.CachedContent.create(\n",
        "    model_name=\"gemini-1.5-pro-001\",\n",
        "    system_instruction=system_instruction,\n",
        "    contents=contents,\n",
        "    ttl=datetime.timedelta(minutes=60),\n",
        ")"
      ],
      "metadata": {
        "id": "V4srKb1LqySp"
      },
      "execution_count": null,
      "outputs": [],
      "id": "V4srKb1LqySp"
    },
    {
      "cell_type": "code",
      "source": [
        "from vertexai.preview.generative_models import GenerativeModel\n",
        "model = GenerativeModel.from_cached_content(cached_content=cached_content)"
      ],
      "metadata": {
        "id": "IgxGxga1qySq"
      },
      "execution_count": null,
      "outputs": [],
      "id": "IgxGxga1qySq"
    },
    {
      "cell_type": "code",
      "source": [
        "gchat = model.start_chat()"
      ],
      "metadata": {
        "id": "ug0xPfzYqySq"
      },
      "execution_count": null,
      "outputs": [],
      "id": "ug0xPfzYqySq"
    },
    {
      "cell_type": "code",
      "source": [
        "from vertexai.generative_models import ChatSession\n",
        "def get_chat_response(chat: ChatSession, prompt: str) -> str:\n",
        "    text_response = []\n",
        "    responses = chat.send_message(prompt, stream=True)\n",
        "    for chunk in responses:\n",
        "        text_response.append(chunk.text)\n",
        "    return \"\".join(text_response)"
      ],
      "metadata": {
        "id": "pgV9frHYqySq"
      },
      "execution_count": null,
      "outputs": [],
      "id": "pgV9frHYqySq"
    },
    {
      "cell_type": "code",
      "source": [
        "prompt = \"Wie heißen die Antragsteller und aus welchen Ländern kommen sie?\"\n",
        "print(get_chat_response(gchat, prompt))"
      ],
      "metadata": {
        "colab": {
          "base_uri": "https://localhost:8080/"
        },
        "outputId": "9c89868e-9e63-4b91-e53d-f81ade9b6505",
        "id": "9zosMXuDqySq"
      },
      "execution_count": null,
      "outputs": [
        {
          "output_type": "stream",
          "name": "stdout",
          "text": [
            "Die beiden Antragsteller sind Gabriela Hernandez Larios aus Mexiko und Anastasiia Hnatenko aus der Ukraine. \n",
            "\n"
          ]
        }
      ],
      "id": "9zosMXuDqySq"
    },
    {
      "cell_type": "code",
      "source": [
        "prompt = \"Wann wurden die Antragstellerinnen geboren?\"\n",
        "print(get_chat_response(gchat, prompt))"
      ],
      "metadata": {
        "id": "b3MSCFe-qySq",
        "colab": {
          "base_uri": "https://localhost:8080/"
        },
        "outputId": "d25aac7d-b9ca-4bd7-c01b-888b911058bf"
      },
      "execution_count": null,
      "outputs": [
        {
          "output_type": "stream",
          "name": "stdout",
          "text": [
            "Gabriela wurde am 20. November 1989 geboren. Anastasiia wurde am 27. November 1991 geboren. \n",
            "\n"
          ]
        }
      ],
      "id": "b3MSCFe-qySq"
    },
    {
      "cell_type": "code",
      "source": [
        "prompt = \"Sind die Antragstellerinnen verheiratet?\"\n",
        "print(get_chat_response(gchat, prompt))"
      ],
      "metadata": {
        "colab": {
          "base_uri": "https://localhost:8080/"
        },
        "outputId": "0be094f6-b8b5-4ff6-cf88-77af3ad983c5",
        "id": "PDC-kwPUqySr"
      },
      "execution_count": null,
      "outputs": [
        {
          "output_type": "stream",
          "name": "stdout",
          "text": [
            "Beide Antragstellerinnen gaben an, nicht verheiratet zu sein. \n",
            "\n",
            "\n"
          ]
        }
      ],
      "id": "PDC-kwPUqySr"
    },
    {
      "cell_type": "markdown",
      "source": [
        "**Appendix**"
      ],
      "metadata": {
        "id": "vy1K0wIlgEmG"
      },
      "id": "vy1K0wIlgEmG"
    },
    {
      "cell_type": "code",
      "source": [
        "#!pip install mesop"
      ],
      "metadata": {
        "id": "Tf9uYd3R35X4",
        "colab": {
          "base_uri": "https://localhost:8080/"
        },
        "collapsed": true,
        "outputId": "79482926-ba88-4d3a-e924-756a528864df"
      },
      "id": "Tf9uYd3R35X4",
      "execution_count": null,
      "outputs": [
        {
          "output_type": "stream",
          "name": "stdout",
          "text": [
            "Requirement already satisfied: mesop in /usr/local/lib/python3.10/dist-packages (0.12.3)\n",
            "Requirement already satisfied: absl-py in /usr/local/lib/python3.10/dist-packages (from mesop) (1.4.0)\n",
            "Requirement already satisfied: deepdiff==6.* in /usr/local/lib/python3.10/dist-packages (from mesop) (6.7.1)\n",
            "Requirement already satisfied: flask in /usr/local/lib/python3.10/dist-packages (from mesop) (2.2.5)\n",
            "Requirement already satisfied: markdown in /usr/local/lib/python3.10/dist-packages (from mesop) (3.7)\n",
            "Requirement already satisfied: msgpack in /usr/local/lib/python3.10/dist-packages (from mesop) (1.0.8)\n",
            "Requirement already satisfied: protobuf in /usr/local/lib/python3.10/dist-packages (from mesop) (3.20.3)\n",
            "Requirement already satisfied: pydantic in /usr/local/lib/python3.10/dist-packages (from mesop) (1.10.18)\n",
            "Requirement already satisfied: pygments in /usr/local/lib/python3.10/dist-packages (from mesop) (2.16.1)\n",
            "Requirement already satisfied: python-dotenv in /usr/local/lib/python3.10/dist-packages (from mesop) (1.0.1)\n",
            "Requirement already satisfied: watchdog in /usr/local/lib/python3.10/dist-packages (from mesop) (5.0.2)\n",
            "Requirement already satisfied: ordered-set<4.2.0,>=4.0.2 in /usr/local/lib/python3.10/dist-packages (from deepdiff==6.*->mesop) (4.1.0)\n",
            "Requirement already satisfied: Werkzeug>=2.2.2 in /usr/local/lib/python3.10/dist-packages (from flask->mesop) (3.0.4)\n",
            "Requirement already satisfied: Jinja2>=3.0 in /usr/local/lib/python3.10/dist-packages (from flask->mesop) (3.1.4)\n",
            "Requirement already satisfied: itsdangerous>=2.0 in /usr/local/lib/python3.10/dist-packages (from flask->mesop) (2.2.0)\n",
            "Requirement already satisfied: click>=8.0 in /usr/local/lib/python3.10/dist-packages (from flask->mesop) (8.1.7)\n",
            "Requirement already satisfied: typing-extensions>=4.2.0 in /usr/local/lib/python3.10/dist-packages (from pydantic->mesop) (4.12.2)\n",
            "Requirement already satisfied: MarkupSafe>=2.0 in /usr/local/lib/python3.10/dist-packages (from Jinja2>=3.0->flask->mesop) (2.1.5)\n"
          ]
        }
      ]
    },
    {
      "cell_type": "code",
      "source": [
        "#import mesop as me\n",
        "#import mesop.labs as mel\n",
        "\n",
        "#me.colab_run()"
      ],
      "metadata": {
        "colab": {
          "base_uri": "https://localhost:8080/"
        },
        "id": "qWaqjVis3vyh",
        "outputId": "602ca4e3-b3a1-4572-a99b-3e899e0735aa"
      },
      "id": "qWaqjVis3vyh",
      "execution_count": null,
      "outputs": [
        {
          "output_type": "stream",
          "name": "stdout",
          "text": [
            "\n",
            "\u001b[32mRunning server on: http://localhost:32123\u001b[0m\n",
            " * Serving Flask app 'mesop.server.server'\n",
            " * Debug mode: off\n"
          ]
        },
        {
          "output_type": "stream",
          "name": "stderr",
          "text": [
            "INFO:werkzeug:\u001b[31m\u001b[1mWARNING: This is a development server. Do not use it in a production deployment. Use a production WSGI server instead.\u001b[0m\n",
            " * Running on all addresses (::)\n",
            " * Running on http://[::1]:32123\n",
            " * Running on http://[::1]:32123\n",
            "INFO:werkzeug:\u001b[33mPress CTRL+C to quit\u001b[0m\n"
          ]
        }
      ]
    },
    {
      "cell_type": "code",
      "source": [
        "#def send_message(message):\n",
        "  resp = get_chat_response(gchat, message)\n",
        "  return resp"
      ],
      "metadata": {
        "id": "hTMjwER-38O0"
      },
      "id": "hTMjwER-38O0",
      "execution_count": null,
      "outputs": []
    },
    {
      "cell_type": "code",
      "source": [
        "#@me.page(path=\"/chat2\")\n",
        "#def chat():\n",
        "  mel.chat(transform)\n",
        "\n",
        "#def transform(prompt: str, history: list[mel.ChatMessage]) -> str:\n",
        "  print(history)\n",
        "  return send_message(prompt)"
      ],
      "metadata": {
        "id": "XFOLy_GL3zXx"
      },
      "id": "XFOLy_GL3zXx",
      "execution_count": null,
      "outputs": []
    },
    {
      "cell_type": "code",
      "source": [
        "#me.colab_show(path=\"/chat2\")"
      ],
      "metadata": {
        "colab": {
          "base_uri": "https://localhost:8080/",
          "height": 421
        },
        "id": "OGyBk3mb33Bl",
        "outputId": "6119c3d6-f6a3-47c7-ffca-7b7eec73026f"
      },
      "id": "OGyBk3mb33Bl",
      "execution_count": null,
      "outputs": [
        {
          "output_type": "display_data",
          "data": {
            "text/plain": [
              "<IPython.core.display.Javascript object>"
            ],
            "application/javascript": [
              "(async (port, path, width, height, cache, element) => {\n",
              "    if (!google.colab.kernel.accessAllowed && !cache) {\n",
              "      return;\n",
              "    }\n",
              "    element.appendChild(document.createTextNode(''));\n",
              "    const url = await google.colab.kernel.proxyPort(port, {cache});\n",
              "    const iframe = document.createElement('iframe');\n",
              "    iframe.src = new URL(path, url).toString();\n",
              "    iframe.height = height;\n",
              "    iframe.width = width;\n",
              "    iframe.style.border = 0;\n",
              "    iframe.allow = [\n",
              "        'accelerometer',\n",
              "        'autoplay',\n",
              "        'camera',\n",
              "        'clipboard-read',\n",
              "        'clipboard-write',\n",
              "        'gyroscope',\n",
              "        'magnetometer',\n",
              "        'microphone',\n",
              "        'serial',\n",
              "        'usb',\n",
              "        'xr-spatial-tracking',\n",
              "    ].join('; ');\n",
              "    element.appendChild(iframe);\n",
              "  })(32123, \"/chat2\", \"100%\", \"400\", false, window.element)"
            ]
          },
          "metadata": {}
        }
      ]
    }
  ],
  "metadata": {
    "kernelspec": {
      "display_name": "Python 3",
      "language": "python",
      "name": "python3"
    },
    "language_info": {
      "codemirror_mode": {
        "name": "ipython",
        "version": 3
      },
      "file_extension": ".py",
      "mimetype": "text/x-python",
      "name": "python",
      "nbconvert_exporter": "python",
      "pygments_lexer": "ipython3",
      "version": "3.10.10"
    },
    "colab": {
      "provenance": [],
      "include_colab_link": true
    }
  },
  "nbformat": 4,
  "nbformat_minor": 5
}
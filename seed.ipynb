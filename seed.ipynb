{
  "cells": [
    {
      "cell_type": "markdown",
      "metadata": {
        "id": "view-in-github",
        "colab_type": "text"
      },
      "source": [
        "<a href=\"https://colab.research.google.com/github/deltorobarba/machinelearning/blob/main/seed.ipynb\" target=\"_parent\"><img src=\"https://colab.research.google.com/assets/colab-badge.svg\" alt=\"Open In Colab\"/></a>"
      ]
    },
    {
      "cell_type": "markdown",
      "metadata": {
        "id": "Hny4I-ODTIS6"
      },
      "source": [
        "# Using Seeds\n"
      ]
    },
    {
      "cell_type": "markdown",
      "metadata": {
        "id": "PwFMpIMrTV_4"
      },
      "source": [
        "## Install Vertex AI SDK for Python"
      ]
    },
    {
      "cell_type": "code",
      "execution_count": null,
      "metadata": {
        "id": "WYUu8VMdJs3V"
      },
      "outputs": [],
      "source": [
        "! pip install --quiet --upgrade --user google-cloud-aiplatform"
      ]
    },
    {
      "cell_type": "markdown",
      "metadata": {
        "id": "ybBXSukZkgjg"
      },
      "source": [
        "## Parameters & Authentication\n",
        "\n",
        "The model names from Vertex AI Gemini have two components:\n",
        "* Model name\n",
        "* Version number\n",
        "\n",
        "For example, `gemini-1.5-pro-001` represent the **001** version of **gemini-1.5-pro** model.\n",
        "\n",
        "We also authenticate Colab and initialize the Vertex AI SDK for Python for your GCP project:"
      ]
    },
    {
      "cell_type": "code",
      "execution_count": null,
      "metadata": {
        "id": "5gUjJ42Nh5kf",
        "cellView": "form",
        "colab": {
          "base_uri": "https://localhost:8080/"
        },
        "outputId": "769e494b-e2f0-41e3-ee92-1db3f00bc891"
      },
      "outputs": [
        {
          "output_type": "stream",
          "name": "stdout",
          "text": [
            "WARNING: google.colab.auth.authenticate_user() is not supported in Colab Enterprise.\n"
          ]
        }
      ],
      "source": [
        "# Define project information\n",
        "PROJECT_ID = \"lunar-352813\"  # @param {type:\"string\"}\n",
        "LOCATION = \"us-central1\"  # @param {type:\"string\"}\n",
        "MODEL = \"gemini-1.5-flash\" # @param {type:\"string\"}\n",
        "\n",
        "# Authenticat with Colab\n",
        "from google.colab import auth\n",
        "\n",
        "auth.authenticate_user()\n",
        "\n",
        "# Initialize Vertex AI\n",
        "import vertexai\n",
        "\n",
        "vertexai.init(project=PROJECT_ID, location=LOCATION)\n",
        "\n",
        "def render(markdown_text):\n",
        "  from IPython.display import Markdown\n",
        "  return Markdown(markdown_text)"
      ]
    },
    {
      "cell_type": "markdown",
      "metadata": {
        "id": "i-6H9Ccq9z8-"
      },
      "source": [
        "## Text Generation"
      ]
    },
    {
      "cell_type": "markdown",
      "metadata": {
        "id": "lhfneknwEDHT"
      },
      "source": [
        "### Load the text generation model\n",
        "\n",
        "\n",
        "\n"
      ]
    },
    {
      "cell_type": "code",
      "execution_count": null,
      "metadata": {
        "id": "nEKPNLNL5RhD",
        "colab": {
          "base_uri": "https://localhost:8080/"
        },
        "outputId": "7b078ebc-0ceb-40b7-b19b-3df02f46ae37"
      },
      "outputs": [
        {
          "output_type": "execute_result",
          "data": {
            "text/plain": [
              "<vertexai.preview.generative_models.GenerativeModel at 0x79705836bd60>"
            ]
          },
          "metadata": {},
          "execution_count": 35
        }
      ],
      "source": [
        "from vertexai.preview.generative_models import GenerativeModel, GenerationConfig\n",
        "\n",
        "GenerativeModel(MODEL)"
      ]
    },
    {
      "cell_type": "markdown",
      "metadata": {
        "id": "qLZagQ8NUDiB"
      },
      "source": [
        "### Generate text without a seed (but temperature=0)"
      ]
    },
    {
      "cell_type": "markdown",
      "source": [
        "The `generate_content` function is used to generate text. We set the temperature to `0` in the generation config.\n",
        "\n",
        "All you need to input is a simple text prompt."
      ],
      "metadata": {
        "id": "gmyWuXcRU4PV"
      }
    },
    {
      "cell_type": "code",
      "execution_count": null,
      "metadata": {
        "colab": {
          "base_uri": "https://localhost:8080/",
          "height": 296
        },
        "id": "0GYBwQuciCco",
        "outputId": "25caf0ab-fbfd-454f-8e7a-0b35f8f0ecf5"
      },
      "outputs": [
        {
          "output_type": "execute_result",
          "data": {
            "text/plain": [
              "<IPython.core.display.Markdown object>"
            ],
            "text/markdown": "It's impossible to say exactly how strong a frog's legs are just based on it jumping over a river. Here's why:\n\n* **River size matters:** A small stream is very different from a wide river. The distance and effort required to jump over a river varies greatly.\n* **Frog species matters:** Different frog species have different sizes and jumping abilities. Some frogs are built for short, powerful jumps, while others are better at long, gliding leaps.\n* **Individual variation:** Even within a species, individual frogs have different strengths and jumping abilities.\n\n**Instead of focusing on the river, here's what we can say about frog leg strength:**\n\n* **Powerful muscles:** Frogs have incredibly strong leg muscles relative to their body size. These muscles allow them to jump many times their own length.\n* **Elastic energy:** Frogs use a unique mechanism called \"elastic energy storage\" to power their jumps. They bend their legs, storing energy in their tendons, and then release it explosively for a powerful jump.\n* **Jumping adaptations:** Frogs have evolved specialized features for jumping, including long, powerful hind legs, strong bones, and flexible joints.\n\n**To understand the strength of a frog's legs, we need to consider the specific frog species and the context of its jump.** \n"
          },
          "metadata": {},
          "execution_count": 36
        }
      ],
      "source": [
        "prompt = \"When a frog jumps over a river, how strong are its legs?\"\n",
        "generation_config = GenerationConfig(temperature=0)\n",
        "gemini_model = GenerativeModel(MODEL,\n",
        "                               generation_config=generation_config)\n",
        "\n",
        "response = gemini_model.generate_content(prompt)\n",
        "\n",
        "render(response.candidates[0].content.parts[0].text)"
      ]
    },
    {
      "cell_type": "code",
      "source": [
        "prompt = \"When a frog jumps over a river, how strong are its legs?\"\n",
        "generation_config = GenerationConfig(temperature=0)\n",
        "gemini_model = GenerativeModel(MODEL,\n",
        "                               generation_config=generation_config)\n",
        "\n",
        "response = gemini_model.generate_content(prompt)\n",
        "\n",
        "render(response.candidates[0].content.parts[0].text)"
      ],
      "metadata": {
        "colab": {
          "base_uri": "https://localhost:8080/",
          "height": 250
        },
        "id": "J6md4FnlMe6-",
        "outputId": "aaaca8ef-2d2b-486a-c9a2-2f4cbae633ce"
      },
      "execution_count": null,
      "outputs": [
        {
          "output_type": "execute_result",
          "data": {
            "text/plain": [
              "<IPython.core.display.Markdown object>"
            ],
            "text/markdown": "It's impossible to say how strong a frog's legs are just by knowing it jumped over a river! 🐸 \n\nHere's why:\n\n* **River size matters:** A tiny stream is very different from a wide, rushing river. \n* **Frog species matters:**  There are hundreds of frog species, each with different sizes and jumping abilities. A tiny tree frog wouldn't be able to jump over a large river, while a bullfrog might be able to leap across a small stream.\n* **Jumping is complex:**  A frog's jump isn't just about leg strength. It involves muscles, bones, and even the way the frog uses its skin to propel itself.\n\n**To figure out how strong a frog's legs are, we'd need more information:**\n\n* **The size of the river:** How wide and deep was it?\n* **The type of frog:** What species was it?\n* **The distance of the jump:** How far did the frog jump?\n\nLet me know if you have more details about the frog and the river! 😉 \n"
          },
          "metadata": {},
          "execution_count": 7
        }
      ]
    },
    {
      "cell_type": "markdown",
      "source": [
        "### Generate text with a seed (and temperature=0)"
      ],
      "metadata": {
        "id": "QapmznXjeSc3"
      }
    },
    {
      "cell_type": "code",
      "source": [
        "prompt = \"When a frog jumps over a river, how strong are its legs?\"\n",
        "generation_config = GenerationConfig(temperature=0, seed=42)\n",
        "gemini_model = GenerativeModel(MODEL,\n",
        "                               generation_config=generation_config)\n",
        "\n",
        "response = gemini_model.generate_content(prompt)\n",
        "\n",
        "render(response.candidates[0].content.parts[0].text)"
      ],
      "metadata": {
        "colab": {
          "base_uri": "https://localhost:8080/",
          "height": 296
        },
        "id": "SqTjg5SmdMiw",
        "outputId": "ab354982-f6a5-48fb-9b85-c08b2ee9790a"
      },
      "execution_count": null,
      "outputs": [
        {
          "output_type": "execute_result",
          "data": {
            "text/plain": [
              "<IPython.core.display.Markdown object>"
            ],
            "text/markdown": "It's impossible to say exactly how strong a frog's legs are just based on it jumping over a river. Here's why:\n\n* **River size matters:** A small stream is very different from a wide river. The distance and effort required to jump over a river varies greatly.\n* **Frog species:** Different frog species have different sizes and jumping abilities. Some frogs are built for short, powerful jumps, while others are better at long, gliding leaps.\n* **Individual variation:** Even within a species, individual frogs have different strengths and jumping abilities.\n\n**Instead of focusing on the river, here's what we can say about frog leg strength:**\n\n* **Powerful muscles:** Frogs have incredibly strong leg muscles relative to their body size. These muscles allow them to jump many times their own length.\n* **Elastic energy:** Frogs use a unique mechanism called \"elastic energy storage\" to power their jumps. They bend their legs, storing energy in their tendons, and then release it explosively for a powerful jump.\n* **Jumping adaptations:** Frogs have evolved specialized features for jumping, including long, powerful hind legs, strong bones, and flexible joints.\n\n**To understand the strength of a frog's legs, we need to consider the specific frog species and the context of its jump.** \n"
          },
          "metadata": {},
          "execution_count": 56
        }
      ]
    },
    {
      "cell_type": "code",
      "source": [
        "prompt = \"When a frog jumps over a river, how strong are its legs?\"\n",
        "generation_config = GenerationConfig(temperature=0, seed=42)\n",
        "gemini_model = GenerativeModel(MODEL,\n",
        "                               generation_config=generation_config)\n",
        "\n",
        "response = gemini_model.generate_content(prompt)\n",
        "\n",
        "render(response.candidates[0].content.parts[0].text)"
      ],
      "metadata": {
        "id": "JsOo83Kwfhpg",
        "colab": {
          "base_uri": "https://localhost:8080/",
          "height": 296
        },
        "outputId": "b4ccc49a-660f-4ebc-903e-c040deb7bdf1"
      },
      "execution_count": null,
      "outputs": [
        {
          "output_type": "execute_result",
          "data": {
            "text/plain": [
              "<IPython.core.display.Markdown object>"
            ],
            "text/markdown": "It's impossible to say exactly how strong a frog's legs are just based on it jumping over a river. Here's why:\n\n* **River size matters:** A small stream is very different from a wide river. The distance and effort required to jump over a river varies greatly.\n* **Frog species matters:** Different frog species have different sizes and jumping abilities. Some frogs are built for short, powerful jumps, while others are better at long, gliding leaps.\n* **Individual variation:** Even within a species, individual frogs have different strengths and jumping abilities.\n\n**Instead of focusing on the river, here's what we can say about frog leg strength:**\n\n* **Powerful muscles:** Frogs have incredibly strong leg muscles relative to their body size. These muscles allow them to jump many times their own length.\n* **Elastic energy:** Frogs use a unique mechanism called \"elastic energy storage\" to power their jumps. They bend their legs, storing energy in their tendons, and then release it explosively for a powerful jump.\n* **Jumping adaptations:** Frogs have evolved specialized features for jumping, including long, powerful hind legs, strong bones, and flexible joints.\n\n**To understand the strength of a frog's legs, we need to consider the specific frog species and the context of its jump.** \n"
          },
          "metadata": {},
          "execution_count": 55
        }
      ]
    }
  ],
  "metadata": {
    "colab": {
      "provenance": [],
      "collapsed_sections": [
        "qLZagQ8NUDiB"
      ],
      "include_colab_link": true
    },
    "environment": {
      "kernel": "python3",
      "name": "tf2-gpu.2-11.m110",
      "type": "gcloud",
      "uri": "gcr.io/deeplearning-platform-release/tf2-gpu.2-11:m110"
    },
    "kernelspec": {
      "display_name": "Python 3",
      "language": "python",
      "name": "python3"
    },
    "language_info": {
      "codemirror_mode": {
        "name": "ipython",
        "version": 3
      },
      "file_extension": ".py",
      "mimetype": "text/x-python",
      "name": "python",
      "nbconvert_exporter": "python",
      "pygments_lexer": "ipython3",
      "version": "3.10.12"
    }
  },
  "nbformat": 4,
  "nbformat_minor": 0
}
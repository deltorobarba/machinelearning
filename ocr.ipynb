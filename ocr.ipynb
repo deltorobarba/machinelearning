{
  "cells": [
    {
      "cell_type": "markdown",
      "metadata": {
        "id": "view-in-github",
        "colab_type": "text"
      },
      "source": [
        "<a href=\"https://colab.research.google.com/github/deltorobarba/machinelearning/blob/main/ocr.ipynb\" target=\"_parent\"><img src=\"https://colab.research.google.com/assets/colab-badge.svg\" alt=\"Open In Colab\"/></a>"
      ]
    },
    {
      "cell_type": "code",
      "execution_count": null,
      "id": "d00c6ce2-d0e4-4f49-99f7-401943c778ce",
      "metadata": {
        "tags": [],
        "id": "d00c6ce2-d0e4-4f49-99f7-401943c778ce"
      },
      "outputs": [],
      "source": [
        "!pip install google-cloud-documentai -q"
      ]
    },
    {
      "cell_type": "code",
      "execution_count": null,
      "id": "853ff70f-e128-4c03-a63a-59d62d05c726",
      "metadata": {
        "tags": [],
        "id": "853ff70f-e128-4c03-a63a-59d62d05c726"
      },
      "outputs": [],
      "source": [
        "from google.cloud import documentai_v1 as documentai"
      ]
    },
    {
      "cell_type": "code",
      "execution_count": null,
      "id": "fea64a72-12c9-43de-a8e6-ea3ffdee1858",
      "metadata": {
        "tags": [],
        "id": "fea64a72-12c9-43de-a8e6-ea3ffdee1858",
        "outputId": "fee2d56f-d177-489f-b491-d312b82056c2"
      },
      "outputs": [
        {
          "name": "stdout",
          "output_type": "stream",
          "text": [
            "Document processing complete.\n"
          ]
        }
      ],
      "source": [
        "# Create a client\n",
        "client = documentai.DocumentProcessorServiceClient()\n",
        "\n",
        "# Set the project and location\n",
        "project_id = \"qwiklabs-gcp-00-d19555d21c13\"\n",
        "location = \"us\"  # e.g., 'us' or 'eu'\n",
        "processor_id = \"dc95d7a2e35aa05a\"\n",
        "name = f\"projects/{project_id}/locations/{location}/processors/{processor_id}\"\n",
        "\n",
        "# Read the document content\n",
        "with open(\"sample-online-ocr.pdf\", \"rb\") as image:\n",
        "    image_content = image.read()\n",
        "\n",
        "# Create the request\n",
        "request = documentai.ProcessRequest(\n",
        "    name=name,\n",
        "    raw_document=documentai.RawDocument(content=image_content, mime_type=\"application/pdf\"),\n",
        ")\n",
        "\n",
        "# Process the document\n",
        "result = client.process_document(request=request)\n",
        "document = result.document\n",
        "\n",
        "# Access the results\n",
        "print(f\"Document processing complete.\")"
      ]
    },
    {
      "cell_type": "code",
      "execution_count": null,
      "id": "e63d068a-8fd0-468e-b9fb-e14e7883f827",
      "metadata": {
        "tags": [],
        "id": "e63d068a-8fd0-468e-b9fb-e14e7883f827",
        "outputId": "6eacfdcf-8741-4c64-f427-cefec21e73ce"
      },
      "outputs": [
        {
          "name": "stdout",
          "output_type": "stream",
          "text": [
            "The document contains the following text:\n",
            "CHAPTER I\n",
            "IN WHICH We Are Introduced to\n",
            "Winnie-the-Pooh and Some\n",
            "Bees, and the Stories Begin\n",
            "HERE is Edward Bear, coming\n",
            "downstairs now, bump, bump, bump, on the back\n",
            "of his head, behind Christopher Robin. It is, as far\n",
            "as he knows, the only way of coming downstairs,\n",
            "but sometimes he feels that there really is another\n",
            "way, if only he could stop bumping for a moment\n",
            "and think of it. And then he feels that perhaps there\n",
            "isn't. Anyhow, here he is at the bottom, and ready\n",
            "to be introduced to you. Winnie-the-Pooh.\n",
            "When I first heard his name, I said, just as you\n",
            "are going to say, “But I thought he was a boy?\"\n",
            "“So did I,\" said Christopher Robin.\n",
            "\"Then you can't call him Winnie?\"\n",
            "\"I don't.\"\n",
            "\"But you said-\n",
            "\"\n",
            "\"He's Winnie-ther-Pooh. Don't you know what\n",
            "'ther' means?\"\n",
            "I\n",
            "Digitized by\n",
            "Google\n",
            "WINNIE-THE-POOH\n",
            "“Ah, yes, now I do,\" I said quickly; and I hope\n",
            "you do too, because it is all the explanation you are\n",
            "going to get.\n",
            "Sometimes Winnie-the-Pooh likes a game of some\n",
            "sort when he comes downstairs, and sometimes he\n",
            "likes to sit quietly in front of the fire and listen to a\n",
            "story. This evening-\n",
            "\"What about a story?\" said Christopher Robin.\n",
            "\"What about a story?” I said.\n",
            "\"Could you very sweetly tell Winnie-the-Pooh\n",
            "one?\"\n",
            "\"I suppose I could,\" I said. \"What sort of stories\n",
            "does he like?”\n",
            "\"About himself. Because he's that sort of Bear.'\n",
            "\"Oh, I see.”\n",
            "\"So could you very sweetly?\"\n",
            "\"I'll try,\" I said.\n",
            "So I tried,\n",
            "\"\n",
            "Once upon a time, a very long time ago now,\n",
            "about last Friday, Winnie-the-Pooh lived in a forest\n",
            "all by himself under the name of Sande: s.\n",
            "(\"What does 'under the name' mean?\" asked\n",
            "Christopher Robin.\n",
            "“It means he had the name over the door in gold\n",
            "letters, and lived under it.\"\n",
            "Digitized by\n",
            "Google\n",
            "WE ARE INTRODUCED\n",
            "RNIG\n",
            "ALSO\n",
            "AB SANDERZ\n",
            "3\n",
            "\"Winnie-the-Pooh wasn't quite sure,\" said Chris-\n",
            "topher Robin.\n",
            "\"Now I am,\" said a growly voice.\n",
            "\"Then I will go on,\" said I.)\n",
            "One day when he was out walking, he came to\n",
            "an open place in the middle of the forest, and in the\n",
            "middle of this place was a large oak-tree, and, from\n",
            "the top of the tree, there came a loud buzzing-noise.\n",
            "Winnie-the-Pooh sat down at the foot of the tree,\n",
            "put his head between his paws and began to think.\n",
            "Digitized by\n",
            "Google\n",
            "\n"
          ]
        }
      ],
      "source": [
        "print(\"The document contains the following text:\")\n",
        "print(document.text)"
      ]
    },
    {
      "cell_type": "code",
      "execution_count": null,
      "id": "e2e46e4d-d9f8-454d-ada9-114801e71b1d",
      "metadata": {
        "tags": [],
        "id": "e2e46e4d-d9f8-454d-ada9-114801e71b1d"
      },
      "outputs": [],
      "source": [
        "!pip install google-cloud-storage -q"
      ]
    },
    {
      "cell_type": "code",
      "execution_count": null,
      "id": "43512567-53d0-41da-97b6-6f8ae3e3347f",
      "metadata": {
        "tags": [],
        "id": "43512567-53d0-41da-97b6-6f8ae3e3347f",
        "outputId": "a743686d-5071-421c-a280-0c538bf0f6f8"
      },
      "outputs": [
        {
          "name": "stdout",
          "output_type": "stream",
          "text": [
            "Text saved to cepf_online_ocr.txt\n"
          ]
        }
      ],
      "source": [
        "# Assuming 'document.text' holds the text you want to save\n",
        "text_to_save = f\"The document contains the following text:\\n{document.text}\"\n",
        "\n",
        "# Specify the filename\n",
        "filename = \"cepf_online_ocr.txt\"\n",
        "\n",
        "# Save the text to the file\n",
        "with open(filename, \"w\") as file:\n",
        "    file.write(text_to_save)\n",
        "\n",
        "print(f\"Text saved to {filename}\")"
      ]
    },
    {
      "cell_type": "code",
      "execution_count": null,
      "id": "994bd1ac-174f-41d9-a528-afd1da9b08c7",
      "metadata": {
        "tags": [],
        "id": "994bd1ac-174f-41d9-a528-afd1da9b08c7"
      },
      "outputs": [],
      "source": [
        "from google.cloud import storage"
      ]
    },
    {
      "cell_type": "code",
      "execution_count": null,
      "id": "b1854192-889e-4318-809b-716709342a89",
      "metadata": {
        "tags": [],
        "id": "b1854192-889e-4318-809b-716709342a89",
        "outputId": "66253410-c3d3-4ec3-f652-5d926b251367"
      },
      "outputs": [
        {
          "name": "stdout",
          "output_type": "stream",
          "text": [
            "File cepf_online_ocr.txt uploaded to gs://qwiklabs-gcp-00-d19555d21c13-cepf-documentai/cepf_online_ocr.txt\n"
          ]
        }
      ],
      "source": [
        "# Replace with your bucket name\n",
        "bucket_name = \"qwiklabs-gcp-00-d19555d21c13-cepf-documentai\"\n",
        "\n",
        "# Replace with the desired filename in Cloud Storage\n",
        "destination_blob_name = \"cepf_online_ocr.txt\"\n",
        "\n",
        "# Replace with the path to your text file in JupyterLab\n",
        "source_file_name = \"cepf_online_ocr.txt\"\n",
        "\n",
        "# Upload the file\n",
        "\n",
        "storage_client = storage.Client()\n",
        "\n",
        "bucket = storage_client.bucket(bucket_name)\n",
        "blob = bucket.blob(destination_blob_name)\n",
        "\n",
        "blob.upload_from_filename(source_file_name)\n",
        "\n",
        "print(f\"File {source_file_name} uploaded to gs://{bucket_name}/{destination_blob_name}\")"
      ]
    },
    {
      "cell_type": "code",
      "execution_count": null,
      "id": "383e5f75-d9de-4ca2-963a-6b0ae538a32f",
      "metadata": {
        "tags": [],
        "id": "383e5f75-d9de-4ca2-963a-6b0ae538a32f"
      },
      "outputs": [],
      "source": [
        "# Input configuration:  Point to your documents in GCS\n",
        "gcs_input_uri = \"gs://qwiklabs-gcp-00-d19555d21c13-cepf-documentai/sample-batch-ocr.pdf\"  # Replace with your GCS URI\n",
        "input_config = documentai.BatchDocumentsInputConfig(\n",
        "    gcs_prefix=documentai.GcsPrefix(gcs_uri_prefix=gcs_input_uri)\n",
        ")\n",
        "\n",
        "\n",
        "# Output configuration: Specify where processed documents should be stored\n",
        "gcs_output_uri = \"gs://qwiklabs-gcp-00-d19555d21c13-cepf-documentai/\"\n",
        "gcs_output_config = documentai.DocumentOutputConfig.GcsOutputConfig(\n",
        "        gcs_uri=gcs_output_uri)\n"
      ]
    },
    {
      "cell_type": "code",
      "execution_count": null,
      "id": "61510009-140f-4993-9363-4fa92464e03c",
      "metadata": {
        "tags": [],
        "id": "61510009-140f-4993-9363-4fa92464e03c",
        "outputId": "ddee1c57-8639-4de3-bf33-18c4e03dcd30"
      },
      "outputs": [
        {
          "name": "stdout",
          "output_type": "stream",
          "text": [
            "Batch processing complete.\n"
          ]
        }
      ],
      "source": [
        "# Create a client\n",
        "client = documentai.DocumentProcessorServiceClient()\n",
        "\n",
        "# Set the project and location\n",
        "#project_id = \"qwiklabs-gcp-01-8126e1a18a93\"\n",
        "#location = \"us\"  # e.g., 'us' or 'eu'\n",
        "#processor_id = \"5f9516b5be867504\"\n",
        "name = f\"projects/{project_id}/locations/{location}/processors/{processor_id}\"\n",
        "\n",
        "output_config = documentai.DocumentOutputConfig(gcs_output_config=gcs_output_config)\n",
        "\n",
        "# Create the batch processing request\n",
        "request = documentai.BatchProcessRequest(\n",
        "    name=name,\n",
        "    input_documents=input_config,\n",
        "    document_output_config=output_config,  # Pass the DocumentOutputConfig object\n",
        ")\n",
        "\n",
        "# Process the documents\n",
        "operation = client.batch_process_documents(request=request)\n",
        "operation.result()  # Wait for the operation to complete\n",
        "\n",
        "print(f\"Batch processing complete.\")"
      ]
    },
    {
      "cell_type": "code",
      "execution_count": null,
      "id": "fa168aa7-eef0-4afc-990d-728e4dfd4ad3",
      "metadata": {
        "tags": [],
        "id": "fa168aa7-eef0-4afc-990d-728e4dfd4ad3",
        "outputId": "49003cef-75f3-4b28-ee30-bcc7f1937f50"
      },
      "outputs": [
        {
          "name": "stdout",
          "output_type": "stream",
          "text": [
            "The document contains the following text:\n",
            "CHAPTER I\n",
            "IN WHICH We Are Introduced to\n",
            "Winnie-the-Pooh and Some\n",
            "Bees, and the Stories Begin\n",
            "HERE is Edward Bear, coming\n",
            "downstairs now, bump, bump, bump, on the back\n",
            "of his head, behind Christopher Robin. It is, as far\n",
            "as he knows, the only way of coming downstairs,\n",
            "but sometimes he feels that there really is another\n",
            "way, if only he could stop bumping for a moment\n",
            "and think of it. And then he feels that perhaps there\n",
            "isn't. Anyhow, here he is at the bottom, and ready\n",
            "to be introduced to you. Winnie-the-Pooh.\n",
            "When I first heard his name, I said, just as you\n",
            "are going to say, “But I thought he was a boy?\"\n",
            "“So did I,\" said Christopher Robin.\n",
            "\"Then you can't call him Winnie?\"\n",
            "\"I don't.\"\n",
            "\"But you said-\n",
            "\"\n",
            "\"He's Winnie-ther-Pooh. Don't you know what\n",
            "'ther' means?\"\n",
            "I\n",
            "Digitized by\n",
            "Google\n",
            "WINNIE-THE-POOH\n",
            "“Ah, yes, now I do,\" I said quickly; and I hope\n",
            "you do too, because it is all the explanation you are\n",
            "going to get.\n",
            "Sometimes Winnie-the-Pooh likes a game of some\n",
            "sort when he comes downstairs, and sometimes he\n",
            "likes to sit quietly in front of the fire and listen to a\n",
            "story. This evening-\n",
            "\"What about a story?\" said Christopher Robin.\n",
            "\"What about a story?” I said.\n",
            "\"Could you very sweetly tell Winnie-the-Pooh\n",
            "one?\"\n",
            "\"I suppose I could,\" I said. \"What sort of stories\n",
            "does he like?”\n",
            "\"About himself. Because he's that sort of Bear.'\n",
            "\"Oh, I see.”\n",
            "\"So could you very sweetly?\"\n",
            "\"I'll try,\" I said.\n",
            "So I tried,\n",
            "\"\n",
            "Once upon a time, a very long time ago now,\n",
            "about last Friday, Winnie-the-Pooh lived in a forest\n",
            "all by himself under the name of Sande: s.\n",
            "(\"What does 'under the name' mean?\" asked\n",
            "Christopher Robin.\n",
            "“It means he had the name over the door in gold\n",
            "letters, and lived under it.\"\n",
            "Digitized by\n",
            "Google\n",
            "WE ARE INTRODUCED\n",
            "RNIG\n",
            "ALSO\n",
            "AB SANDERZ\n",
            "3\n",
            "\"Winnie-the-Pooh wasn't quite sure,\" said Chris-\n",
            "topher Robin.\n",
            "\"Now I am,\" said a growly voice.\n",
            "\"Then I will go on,\" said I.)\n",
            "One day when he was out walking, he came to\n",
            "an open place in the middle of the forest, and in the\n",
            "middle of this place was a large oak-tree, and, from\n",
            "the top of the tree, there came a loud buzzing-noise.\n",
            "Winnie-the-Pooh sat down at the foot of the tree,\n",
            "put his head between his paws and began to think.\n",
            "Digitized by\n",
            "Google\n",
            "\n"
          ]
        }
      ],
      "source": [
        "# Read the text recognition output from the processor\n",
        "print(\"The document contains the following text:\")\n",
        "print(document.text)"
      ]
    },
    {
      "cell_type": "code",
      "execution_count": null,
      "id": "e064d936-09d5-468e-ad83-afa215e4b005",
      "metadata": {
        "tags": [],
        "id": "e064d936-09d5-468e-ad83-afa215e4b005",
        "outputId": "c3f017e3-e9a0-4c2d-b1bc-a7810c8001f5"
      },
      "outputs": [
        {
          "name": "stdout",
          "output_type": "stream",
          "text": [
            "Output files:\n",
            "Fetching 145357395788435402/0/sample-batch-ocr-0.json\n",
            "Fetching 145357395788435402/0/sample-batch-ocr-1.json\n",
            "Fetching 145357395788435402/0/sample-batch-ocr-10.json\n",
            "Fetching 145357395788435402/0/sample-batch-ocr-11.json\n",
            "Fetching 145357395788435402/0/sample-batch-ocr-12.json\n",
            "Fetching 145357395788435402/0/sample-batch-ocr-13.json\n",
            "Fetching 145357395788435402/0/sample-batch-ocr-14.json\n",
            "Fetching 145357395788435402/0/sample-batch-ocr-15.json\n",
            "Fetching 145357395788435402/0/sample-batch-ocr-16.json\n",
            "Fetching 145357395788435402/0/sample-batch-ocr-17.json\n",
            "Fetching 145357395788435402/0/sample-batch-ocr-18.json\n",
            "Fetching 145357395788435402/0/sample-batch-ocr-2.json\n",
            "Fetching 145357395788435402/0/sample-batch-ocr-3.json\n",
            "Fetching 145357395788435402/0/sample-batch-ocr-4.json\n",
            "Fetching 145357395788435402/0/sample-batch-ocr-5.json\n",
            "Fetching 145357395788435402/0/sample-batch-ocr-6.json\n",
            "Fetching 145357395788435402/0/sample-batch-ocr-7.json\n",
            "Fetching 145357395788435402/0/sample-batch-ocr-8.json\n",
            "Fetching 145357395788435402/0/sample-batch-ocr-9.json\n",
            "Text saved to cepf_batch_ocr.txt\n"
          ]
        }
      ],
      "source": [
        "# save locally\n",
        "import re\n",
        "\n",
        "from google.cloud import documentai_v1 as documentai\n",
        "\n",
        "\n",
        "def save_text_locally(operation, filename=\"cepf_batch_ocr.txt\"):\n",
        "    \"\"\"Saves the extracted text from a batch processing operation to a local file.\"\"\"\n",
        "\n",
        "    metadata = documentai.BatchProcessMetadata(operation.metadata)\n",
        "\n",
        "    if metadata.state != documentai.BatchProcessMetadata.State.SUCCEEDED:\n",
        "        raise ValueError(f\"Batch Process Failed: {metadata.state_message}\")\n",
        "\n",
        "    all_text = \"\"\n",
        "\n",
        "    print(\"Output files:\")\n",
        "    for process in list(metadata.individual_process_statuses):\n",
        "        matches = re.match(r\"gs://(.*?)/(.*)\", process.output_gcs_destination)\n",
        "        if not matches:\n",
        "            print(\n",
        "                \"Could not parse output GCS destination:\",\n",
        "                process.output_gcs_destination,\n",
        "            )\n",
        "            continue\n",
        "\n",
        "        output_bucket, output_prefix = matches.groups()\n",
        "        # Initialize a storage client\n",
        "        storage_client = storage.Client()\n",
        "        output_blobs = storage_client.list_blobs(output_bucket, prefix=output_prefix)\n",
        "\n",
        "        for blob in output_blobs:\n",
        "            if blob.content_type != \"application/json\":\n",
        "                print(\n",
        "                    f\"Skipping non-supported file: {blob.name} - Mimetype: {blob.content_type}\"\n",
        "                )\n",
        "                continue\n",
        "\n",
        "            print(f\"Fetching {blob.name}\")\n",
        "            document = documentai.Document.from_json(\n",
        "                blob.download_as_bytes(), ignore_unknown_fields=True\n",
        "            )\n",
        "\n",
        "            all_text += document.text\n",
        "\n",
        "    with open(filename, \"w\") as f:\n",
        "        f.write(all_text)\n",
        "\n",
        "    print(f\"Text saved to {filename}\")\n",
        "\n",
        "\n",
        "# Example usage (assuming you have the 'operation' object from your batch processing job):\n",
        "save_text_locally(operation)"
      ]
    },
    {
      "cell_type": "code",
      "execution_count": null,
      "id": "bafeef7b-b84b-4f2b-b61e-638936935727",
      "metadata": {
        "tags": [],
        "id": "bafeef7b-b84b-4f2b-b61e-638936935727",
        "outputId": "2f04ed6f-480a-495d-def0-9cb5606f5186"
      },
      "outputs": [
        {
          "name": "stdout",
          "output_type": "stream",
          "text": [
            "File cepf_batch_ocr.txt uploaded to gs://qwiklabs-gcp-00-d19555d21c13-cepf-documentai/cepf_batch_ocr.txt\n"
          ]
        }
      ],
      "source": [
        "# Replace with your bucket name\n",
        "bucket_name = \"qwiklabs-gcp-00-d19555d21c13-cepf-documentai\"\n",
        "\n",
        "# Replace with the desired filename in Cloud Storage\n",
        "destination_blob_name = \"cepf_batch_ocr.txt\"\n",
        "\n",
        "# Replace with the path to your text file in JupyterLab\n",
        "source_file_name = \"cepf_batch_ocr.txt\"\n",
        "\n",
        "# Upload the file\n",
        "\n",
        "bucket = storage_client.bucket(bucket_name)\n",
        "blob = bucket.blob(destination_blob_name)\n",
        "\n",
        "blob.upload_from_filename(source_file_name)\n",
        "\n",
        "print(f\"File {source_file_name} uploaded to gs://{bucket_name}/{destination_blob_name}\")"
      ]
    },
    {
      "cell_type": "code",
      "execution_count": null,
      "id": "7316f61b-d9a5-49c9-93ba-4031408ef076",
      "metadata": {
        "tags": [],
        "id": "7316f61b-d9a5-49c9-93ba-4031408ef076",
        "outputId": "19acf7c8-cd8e-4d08-c481-6fda742c8d0e"
      },
      "outputs": [
        {
          "name": "stdout",
          "output_type": "stream",
          "text": [
            "Text saved to cepf_batch_ocr.txt\n",
            "File cepf_batch_ocr.txt uploaded to gs://qwiklabs-gcp-00-d19555d21c13-cepf-documentai/cepf_batch_ocr.txt\n"
          ]
        }
      ],
      "source": [
        "# Assuming 'document.text' holds the text you want to save\n",
        "text_to_save = f\"The document contains the following text:\\n{document.text}\"\n",
        "\n",
        "# Specify the filename\n",
        "filename = \"cepf_batch_ocr.txt\"\n",
        "\n",
        "# Save the text to the file\n",
        "with open(filename, \"w\") as file:\n",
        "    file.write(text_to_save)\n",
        "\n",
        "print(f\"Text saved to {filename}\")\n",
        "\n",
        "# Replace with your bucket name\n",
        "#bucket_name = \"qwiklabs-gcp-01-8126e1a18a93-cepf-documentai\"\n",
        "\n",
        "# Replace with the desired filename in Cloud Storage\n",
        "destination_blob_name = \"cepf_batch_ocr.txt\"\n",
        "\n",
        "# Replace with the path to your text file in JupyterLab\n",
        "source_file_name = \"cepf_batch_ocr.txt\"\n",
        "\n",
        "# Upload the file\n",
        "\n",
        "bucket = storage_client.bucket(bucket_name)\n",
        "blob = bucket.blob(destination_blob_name)\n",
        "\n",
        "blob.upload_from_filename(source_file_name)\n",
        "\n",
        "print(f\"File {source_file_name} uploaded to gs://{bucket_name}/{destination_blob_name}\")"
      ]
    },
    {
      "cell_type": "code",
      "execution_count": null,
      "id": "bb41a235-3c1f-4124-8e53-e9a1d13ce76f",
      "metadata": {
        "id": "bb41a235-3c1f-4124-8e53-e9a1d13ce76f"
      },
      "outputs": [],
      "source": []
    },
    {
      "cell_type": "code",
      "execution_count": null,
      "id": "1ba19e06-4a96-4ee6-9aae-501a924aaf5c",
      "metadata": {
        "id": "1ba19e06-4a96-4ee6-9aae-501a924aaf5c"
      },
      "outputs": [],
      "source": [
        "# Create a client\n",
        "client = documentai.DocumentProcessorServiceClient()\n",
        "\n",
        "# Set the project and location\n",
        "project_id = \"qwiklabs-gcp-00-d19555d21c13\"\n",
        "location = \"us\"  # e.g., 'us' or 'eu'\n",
        "processor_id = \"c52b9af951178250\"\n",
        "name = f\"projects/{project_id}/locations/{location}/processors/{processor_id}\"\n",
        "\n",
        "# Read the document content\n",
        "with open(\"sample-intake-form.pdf\", \"rb\") as image:\n",
        "    image_content = image.read()\n",
        "\n",
        "# Create the request\n",
        "request = documentai.ProcessRequest(\n",
        "    name=name,\n",
        "    raw_document=documentai.RawDocument(content=image_content, mime_type=\"application/pdf\"),\n",
        ")\n",
        "\n",
        "# Process the document\n",
        "result = client.process_document(request=request)\n",
        "document = result.document\n",
        "\n",
        "# Access the results\n",
        "print(f\"Document processing complete.\")"
      ]
    },
    {
      "cell_type": "code",
      "execution_count": null,
      "id": "9557f8c7-4d68-49f8-ab03-08e2110a1685",
      "metadata": {
        "tags": [],
        "id": "9557f8c7-4d68-49f8-ab03-08e2110a1685",
        "outputId": "b0997a84-808a-48b1-9f6f-c69adb4d052c"
      },
      "outputs": [
        {
          "name": "stdout",
          "output_type": "stream",
          "text": [
            "                                           Field Name  Field Name Confidence  \\\n",
            "0   Are you currently taking any medication? (If y...               0.943337   \n",
            "1                                           _Phone #:               0.932336   \n",
            "2                                                Zip:               0.914201   \n",
            "3                                               City:               0.900499   \n",
            "4                                              State:               0.893907   \n",
            "5                                                DOB:               0.885175   \n",
            "6                                             Gender:               0.882370   \n",
            "7                                               Name:               0.872789   \n",
            "8                                     Marital Status:               0.852380   \n",
            "9   Describe your medical concerns (symptoms, diag...               0.843905   \n",
            "10                                              Date:               0.829963   \n",
            "11                                           Address:               0.823900   \n",
            "12                                        Occupation:               0.814969   \n",
            "13                                 Emergency Contact:               0.813421   \n",
            "14                                             Email:               0.797409   \n",
            "15                                       Referred By:               0.769416   \n",
            "16                           Emergency Contact Phone:               0.761174   \n",
            "\n",
            "                                          Field Value  Field Value Confidence  \n",
            "0                 Vyvanse (25mg) daily for attention.                0.943337  \n",
            "1                               walker@cmail.com (906                0.932336  \n",
            "2                                               07082                0.914201  \n",
            "3                                              Towaco                0.900499  \n",
            "4                                                  NJ                0.893907  \n",
            "5                                          09/04/1986                0.885175  \n",
            "6                                                   F                0.882370  \n",
            "7                                        Sally Walker                0.872789  \n",
            "8                                              Single                0.852380  \n",
            "9   Ranny nose, mucas in thwat, weakness, aches, c...                0.843905  \n",
            "10                                            9/14/19                0.829963  \n",
            "11                                     24 Barney Lane                0.823900  \n",
            "12                                  Software Engineer                0.814969  \n",
            "13                                         Eva Walker                0.813421  \n",
            "14                            Sally, walker@cmail.com                0.797409  \n",
            "15                                               None                0.769416  \n",
            "16                                      (906)334-8926                0.761174  \n"
          ]
        }
      ],
      "source": [
        "import pandas as pd\n",
        "from google.cloud import documentai_v1 as documentai\n",
        "\n",
        "\n",
        "def online_process(\n",
        "    project_id: str,\n",
        "    location: str,\n",
        "    processor_id: str,\n",
        "    file_path: str,\n",
        "    mime_type: str,\n",
        ") -> documentai.Document:\n",
        "    \"\"\"\n",
        "    Processes a document using the Document AI Online Processing API.\n",
        "    \"\"\"\n",
        "\n",
        "    opts = {\"api_endpoint\": f\"{location}-documentai.googleapis.com\"}\n",
        "\n",
        "    # Instantiates a client\n",
        "    documentai_client = documentai.DocumentProcessorServiceClient(client_options=opts)\n",
        "\n",
        "    # The full resource name of the processor, e.g.:\n",
        "    # projects/project-id/locations/location/processor/processor-id\n",
        "    # You must create new processors in the Cloud Console first\n",
        "    resource_name = documentai_client.processor_path(project_id, location, processor_id)\n",
        "\n",
        "    # Read the file into memory\n",
        "    with open(file_path, \"rb\") as image:\n",
        "        image_content = image.read()\n",
        "\n",
        "        # Load Binary Data into Document AI RawDocument Object\n",
        "        raw_document = documentai.RawDocument(\n",
        "            content=image_content, mime_type=mime_type\n",
        "        )\n",
        "\n",
        "        # Configure the process request\n",
        "        request = documentai.ProcessRequest(\n",
        "            name=resource_name, raw_document=raw_document\n",
        "        )\n",
        "\n",
        "        # Use the Document AI client to process the sample form\n",
        "        result = documentai_client.process_document(request=request)\n",
        "\n",
        "        return result.document\n",
        "\n",
        "\n",
        "def trim_text(text: str):\n",
        "    \"\"\"\n",
        "    Remove extra space characters from text (blank, newline, tab, etc.)\n",
        "    \"\"\"\n",
        "    return text.strip().replace(\"\\n\", \" \")\n",
        "\n",
        "\n",
        "PROJECT_ID = \"qwiklabs-gcp-00-d19555d21c13\"\n",
        "LOCATION = \"us\"  # Format is 'us' or 'eu'\n",
        "PROCESSOR_ID = \"c52b9af951178250\"  # Create processor in Cloud Console\n",
        "\n",
        "# The local file in your current working directory\n",
        "FILE_PATH = \"sample-intake-form.pdf\"\n",
        "# Refer to https://cloud.google.com/document-ai/docs/processors-list\n",
        "# for supported file types\n",
        "MIME_TYPE = \"application/pdf\"\n",
        "\n",
        "document = online_process(\n",
        "    project_id=PROJECT_ID,\n",
        "    location=LOCATION,\n",
        "    processor_id=PROCESSOR_ID,\n",
        "    file_path=FILE_PATH,\n",
        "    mime_type=MIME_TYPE,\n",
        ")\n",
        "\n",
        "names = []\n",
        "name_confidence = []\n",
        "values = []\n",
        "value_confidence = []\n",
        "\n",
        "for page in document.pages:\n",
        "    for field in page.form_fields:\n",
        "        # Get the extracted field names\n",
        "        names.append(trim_text(field.field_name.text_anchor.content))\n",
        "        # Confidence - How \"sure\" the Model is that the text is correct\n",
        "        name_confidence.append(field.field_name.confidence)\n",
        "\n",
        "        values.append(trim_text(field.field_value.text_anchor.content))\n",
        "        value_confidence.append(field.field_value.confidence)\n",
        "\n",
        "# Create a Pandas Dataframe to print the values in tabular format.\n",
        "df = pd.DataFrame(\n",
        "    {\n",
        "        \"Field Name\": names,\n",
        "        \"Field Name Confidence\": name_confidence,\n",
        "        \"Field Value\": values,\n",
        "        \"Field Value Confidence\": value_confidence,\n",
        "    }\n",
        ")\n",
        "\n",
        "print(df)"
      ]
    },
    {
      "cell_type": "code",
      "execution_count": null,
      "id": "c4028da3-9340-4864-a841-ea5ec0601812",
      "metadata": {
        "tags": [],
        "id": "c4028da3-9340-4864-a841-ea5ec0601812",
        "outputId": "c9965be1-39f9-4f48-8ecf-bba5be097afd"
      },
      "outputs": [
        {
          "name": "stdout",
          "output_type": "stream",
          "text": [
            "DataFrame saved as gs://qwiklabs-gcp-00-d19555d21c13-cepf-documentai/cepf_form_parser.csv\n"
          ]
        }
      ],
      "source": [
        "# Replace with your bucket name\n",
        "bucket_name = \"qwiklabs-gcp-00-d19555d21c13-cepf-documentai\"\n",
        "\n",
        "# Replace with the desired filename in Cloud Storage\n",
        "destination_blob_name = \"cepf_form_parser.csv\"\n",
        "\n",
        "# Initialize a storage client\n",
        "storage_client = storage.Client()\n",
        "\n",
        "# Upload the file\n",
        "bucket = storage_client.bucket(bucket_name)\n",
        "blob = bucket.blob(destination_blob_name)\n",
        "\n",
        "# Convert DataFrame to CSV string\n",
        "csv_string = df.to_csv(index=False)  # Set index=False if you don't want to save the index\n",
        "\n",
        "blob.upload_from_string(csv_string, content_type='text/csv')\n",
        "\n",
        "print(f\"DataFrame saved as gs://{bucket_name}/{destination_blob_name}\")"
      ]
    },
    {
      "cell_type": "code",
      "execution_count": null,
      "id": "ee7be063-f03a-4e7c-8a96-0dd013ff6818",
      "metadata": {
        "id": "ee7be063-f03a-4e7c-8a96-0dd013ff6818"
      },
      "outputs": [],
      "source": []
    }
  ],
  "metadata": {
    "environment": {
      "kernel": "conda-base-py",
      "name": "workbench-notebooks.m125",
      "type": "gcloud",
      "uri": "us-docker.pkg.dev/deeplearning-platform-release/gcr.io/workbench-notebooks:m125"
    },
    "kernelspec": {
      "display_name": "Python 3 (ipykernel) (Local) (Local)",
      "language": "python",
      "name": "conda-base-py"
    },
    "language_info": {
      "codemirror_mode": {
        "name": "ipython",
        "version": 3
      },
      "file_extension": ".py",
      "mimetype": "text/x-python",
      "name": "python",
      "nbconvert_exporter": "python",
      "pygments_lexer": "ipython3",
      "version": "3.10.15"
    },
    "colab": {
      "provenance": [],
      "include_colab_link": true
    }
  },
  "nbformat": 4,
  "nbformat_minor": 5
}